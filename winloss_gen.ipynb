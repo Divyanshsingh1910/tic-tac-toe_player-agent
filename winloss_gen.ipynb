{
 "cells": [
  {
   "cell_type": "code",
   "execution_count": 1,
   "metadata": {},
   "outputs": [],
   "source": [
    "from tictactoe.tictactoe import terminal, utility, minimax, winner, result\n",
    "import tictactoe.tictactoe as ttt\n",
    "import numpy as np\n",
    "import pandas as pd"
   ]
  },
  {
   "cell_type": "code",
   "execution_count": 2,
   "metadata": {},
   "outputs": [
    {
     "name": "stdout",
     "output_type": "stream",
     "text": [
      "4520\n"
     ]
    }
   ],
   "source": [
    "\n",
    "\n",
    "data = []\n",
    "\n",
    "arr = {0 : \"X\", 1 : \"O\", 2 : None}\n",
    "\n",
    "for i_0 in range(3):\n",
    "    for i_1 in range(3):\n",
    "        for i_2 in range(3):\n",
    "            for i_3 in range(3):\n",
    "                for i_4 in range(3):\n",
    "                    for i_5 in range(3):\n",
    "                        for i_6 in range(3):\n",
    "                            for i_7 in range(3):\n",
    "                                for i_8 in range(3):\n",
    "\n",
    "                                    board = np.array([i_0, i_1, i_2, i_3, i_4, i_5, i_6, i_7, i_8])\n",
    "                                    board_2 = np.array([arr[i] for i in board])\n",
    "\n",
    "                                    if terminal(board_2.reshape(3,3)):\n",
    "                                        continue\n",
    "\n",
    "                                    count_0 = 0\n",
    "                                    count_X = 0\n",
    "                                    for i in range(9):\n",
    "                                        if board[i] == 0:\n",
    "                                            count_X += 1\n",
    "                                        elif board[i] == 1:\n",
    "                                            count_0 += 1\n",
    "\n",
    "                                    if count_X == count_0:\n",
    "                                        data.append((board, 'X'))\n",
    "                                    elif count_X == count_0 + 1:\n",
    "                                        data.append((board, 'O'))\n",
    "\n",
    "print(len(data))\n",
    "\n",
    "# 0 is X and 1 is O\n",
    "# if both count are equal then X will be the one to move first"
   ]
  },
  {
   "cell_type": "code",
   "execution_count": 3,
   "metadata": {},
   "outputs": [],
   "source": [
    "import numpy as np\n",
    "import matplotlib.pyplot as plt\n",
    "\n",
    "from Helper_functions import get_pattern,generate_image,tester"
   ]
  },
  {
   "cell_type": "code",
   "execution_count": 4,
   "metadata": {},
   "outputs": [],
   "source": [
    "df = pd.DataFrame(data, columns =[ 'board', 'player'])"
   ]
  },
  {
   "cell_type": "code",
   "execution_count": 5,
   "metadata": {},
   "outputs": [
    {
     "data": {
      "text/html": [
       "<div>\n",
       "<style scoped>\n",
       "    .dataframe tbody tr th:only-of-type {\n",
       "        vertical-align: middle;\n",
       "    }\n",
       "\n",
       "    .dataframe tbody tr th {\n",
       "        vertical-align: top;\n",
       "    }\n",
       "\n",
       "    .dataframe thead th {\n",
       "        text-align: right;\n",
       "    }\n",
       "</style>\n",
       "<table border=\"1\" class=\"dataframe\">\n",
       "  <thead>\n",
       "    <tr style=\"text-align: right;\">\n",
       "      <th></th>\n",
       "      <th>board</th>\n",
       "      <th>player</th>\n",
       "    </tr>\n",
       "  </thead>\n",
       "  <tbody>\n",
       "    <tr>\n",
       "      <th>0</th>\n",
       "      <td>[0, 0, 1, 0, 0, 1, 1, 1, 2]</td>\n",
       "      <td>X</td>\n",
       "    </tr>\n",
       "    <tr>\n",
       "      <th>1</th>\n",
       "      <td>[0, 0, 1, 0, 0, 1, 1, 2, 2]</td>\n",
       "      <td>O</td>\n",
       "    </tr>\n",
       "    <tr>\n",
       "      <th>2</th>\n",
       "      <td>[0, 0, 1, 0, 0, 1, 2, 1, 2]</td>\n",
       "      <td>O</td>\n",
       "    </tr>\n",
       "    <tr>\n",
       "      <th>3</th>\n",
       "      <td>[0, 0, 1, 0, 0, 2, 1, 1, 2]</td>\n",
       "      <td>O</td>\n",
       "    </tr>\n",
       "    <tr>\n",
       "      <th>4</th>\n",
       "      <td>[0, 0, 1, 0, 0, 2, 1, 2, 1]</td>\n",
       "      <td>O</td>\n",
       "    </tr>\n",
       "  </tbody>\n",
       "</table>\n",
       "</div>"
      ],
      "text/plain": [
       "                         board player\n",
       "0  [0, 0, 1, 0, 0, 1, 1, 1, 2]      X\n",
       "1  [0, 0, 1, 0, 0, 1, 1, 2, 2]      O\n",
       "2  [0, 0, 1, 0, 0, 1, 2, 1, 2]      O\n",
       "3  [0, 0, 1, 0, 0, 2, 1, 1, 2]      O\n",
       "4  [0, 0, 1, 0, 0, 2, 1, 2, 1]      O"
      ]
     },
     "execution_count": 5,
     "metadata": {},
     "output_type": "execute_result"
    }
   ],
   "source": [
    "df.head()"
   ]
  },
  {
   "cell_type": "code",
   "execution_count": 6,
   "metadata": {},
   "outputs": [],
   "source": [
    "winners = []"
   ]
  },
  {
   "cell_type": "code",
   "execution_count": null,
   "metadata": {},
   "outputs": [],
   "source": []
  },
  {
   "cell_type": "code",
   "execution_count": 7,
   "metadata": {},
   "outputs": [],
   "source": [
    "for i in range(len(data)):\n",
    "    board = np.array(data[i][0])\n",
    "    board_2 = np.array([arr[i] for i in board])\n",
    "    board_2 = board_2.reshape(3,3)\n",
    "\n",
    "    while not terminal(board_2):\n",
    "        move = minimax(board_2)\n",
    "        board_2 = result(board_2, move)\n",
    "\n",
    "    if utility(board_2) == 1:\n",
    "        winners.append(1)\n",
    "\n",
    "    elif utility(board_2) == -1:\n",
    "        winners.append(0)\n",
    "    \n",
    "    else:\n",
    "        winners.append(2)"
   ]
  },
  {
   "cell_type": "code",
   "execution_count": 8,
   "metadata": {},
   "outputs": [],
   "source": [
    "win = pd.DataFrame(winners, columns = ['winner'])"
   ]
  },
  {
   "cell_type": "code",
   "execution_count": 9,
   "metadata": {},
   "outputs": [],
   "source": [
    "id = pd.DataFrame([f\"{i}.png\" for i in range(len(data))], columns = ['ID'])"
   ]
  },
  {
   "cell_type": "code",
   "execution_count": 10,
   "metadata": {},
   "outputs": [],
   "source": [
    "final_result = pd.concat([id, df, win], axis = 1)"
   ]
  },
  {
   "cell_type": "code",
   "execution_count": 11,
   "metadata": {},
   "outputs": [
    {
     "data": {
      "text/html": [
       "<div>\n",
       "<style scoped>\n",
       "    .dataframe tbody tr th:only-of-type {\n",
       "        vertical-align: middle;\n",
       "    }\n",
       "\n",
       "    .dataframe tbody tr th {\n",
       "        vertical-align: top;\n",
       "    }\n",
       "\n",
       "    .dataframe thead th {\n",
       "        text-align: right;\n",
       "    }\n",
       "</style>\n",
       "<table border=\"1\" class=\"dataframe\">\n",
       "  <thead>\n",
       "    <tr style=\"text-align: right;\">\n",
       "      <th></th>\n",
       "      <th>ID</th>\n",
       "      <th>board</th>\n",
       "      <th>player</th>\n",
       "      <th>winner</th>\n",
       "    </tr>\n",
       "  </thead>\n",
       "  <tbody>\n",
       "    <tr>\n",
       "      <th>0</th>\n",
       "      <td>0.png</td>\n",
       "      <td>[0, 0, 1, 0, 0, 1, 1, 1, 2]</td>\n",
       "      <td>X</td>\n",
       "      <td>1</td>\n",
       "    </tr>\n",
       "    <tr>\n",
       "      <th>1</th>\n",
       "      <td>1.png</td>\n",
       "      <td>[0, 0, 1, 0, 0, 1, 1, 2, 2]</td>\n",
       "      <td>O</td>\n",
       "      <td>0</td>\n",
       "    </tr>\n",
       "    <tr>\n",
       "      <th>2</th>\n",
       "      <td>2.png</td>\n",
       "      <td>[0, 0, 1, 0, 0, 1, 2, 1, 2]</td>\n",
       "      <td>O</td>\n",
       "      <td>0</td>\n",
       "    </tr>\n",
       "    <tr>\n",
       "      <th>3</th>\n",
       "      <td>3.png</td>\n",
       "      <td>[0, 0, 1, 0, 0, 2, 1, 1, 2]</td>\n",
       "      <td>O</td>\n",
       "      <td>0</td>\n",
       "    </tr>\n",
       "    <tr>\n",
       "      <th>4</th>\n",
       "      <td>4.png</td>\n",
       "      <td>[0, 0, 1, 0, 0, 2, 1, 2, 1]</td>\n",
       "      <td>O</td>\n",
       "      <td>0</td>\n",
       "    </tr>\n",
       "  </tbody>\n",
       "</table>\n",
       "</div>"
      ],
      "text/plain": [
       "      ID                        board player  winner\n",
       "0  0.png  [0, 0, 1, 0, 0, 1, 1, 1, 2]      X       1\n",
       "1  1.png  [0, 0, 1, 0, 0, 1, 1, 2, 2]      O       0\n",
       "2  2.png  [0, 0, 1, 0, 0, 1, 2, 1, 2]      O       0\n",
       "3  3.png  [0, 0, 1, 0, 0, 2, 1, 1, 2]      O       0\n",
       "4  4.png  [0, 0, 1, 0, 0, 2, 1, 2, 1]      O       0"
      ]
     },
     "execution_count": 11,
     "metadata": {},
     "output_type": "execute_result"
    }
   ],
   "source": [
    "final_result.head()"
   ]
  },
  {
   "cell_type": "code",
   "execution_count": 12,
   "metadata": {},
   "outputs": [],
   "source": [
    "final_result.to_csv('solution_final.csv', index = False)"
   ]
  },
  {
   "cell_type": "code",
   "execution_count": null,
   "metadata": {},
   "outputs": [],
   "source": []
  }
 ],
 "metadata": {
  "kernelspec": {
   "display_name": "MachineLearning",
   "language": "python",
   "name": "python3"
  },
  "language_info": {
   "codemirror_mode": {
    "name": "ipython",
    "version": 3
   },
   "file_extension": ".py",
   "mimetype": "text/x-python",
   "name": "python",
   "nbconvert_exporter": "python",
   "pygments_lexer": "ipython3",
   "version": "3.10.12"
  }
 },
 "nbformat": 4,
 "nbformat_minor": 2
}
