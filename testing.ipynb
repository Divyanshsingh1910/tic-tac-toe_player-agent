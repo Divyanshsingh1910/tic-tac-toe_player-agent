{
 "cells": [
  {
   "cell_type": "markdown",
   "metadata": {},
   "source": [
    "Testing the generate_image functions"
   ]
  },
  {
   "cell_type": "code",
   "execution_count": 1,
   "metadata": {},
   "outputs": [],
   "source": [
    "import numpy as np\n",
    "\n",
    "from Player import player_main\n",
    "from Helper_functions import get_pattern,generate_image,tester"
   ]
  },
  {
   "cell_type": "code",
   "execution_count": 1,
   "metadata": {},
   "outputs": [],
   "source": [
    "# from generate_image import choose_image_0,choose_image_1,generate_image,png_to_array"
   ]
  },
  {
   "cell_type": "code",
   "execution_count": 2,
   "metadata": {},
   "outputs": [],
   "source": [
    "img_path = choose_image_0()"
   ]
  },
  {
   "cell_type": "code",
   "execution_count": 3,
   "metadata": {},
   "outputs": [],
   "source": [
    "arr = png_to_array(img_path)"
   ]
  },
  {
   "cell_type": "code",
   "execution_count": 4,
   "metadata": {},
   "outputs": [
    {
     "name": "stdout",
     "output_type": "stream",
     "text": [
      "[[  0   0   0   0   0   0   0   0   0   0   0   0   0   0   0   0   0   0\n",
      "    0   0   0   0   0   0   0   0   0   0]\n",
      " [  0   0   0   0   0   0   0   0   0   0   0   0   0   0   0   0   0   0\n",
      "    0   0   0   0   0   0   0   0   0   0]\n",
      " [  0   0   0   0   0   0   0   0   0   0   0   0   0   0   0   0   0   0\n",
      "    0   0   0   0   0   0   0   0   0   0]\n",
      " [  0   0   0   0   0   0   0   0   0   0   0   0   0   0   0   0   0   0\n",
      "    0   0   0   0   0   0   0   0   0   0]\n",
      " [  0   0   0   0   0   0   0   0   0   0   0   0   0  63 106 105 105 105\n",
      "   74   0   0   0   0   0   0   0   0   0]\n",
      " [  0   0   0   0   0   0   0   0   0   0   0  75 209 235 254 253 253 253\n",
      "  240 209 130  39   0   0   0   0   0   0]\n",
      " [  0   0   0   0   0   0   0   0   0   0   0  85 211  89  90  89  89  89\n",
      "  221 240 253 222  50   7   0   0   0   0]\n",
      " [  0   0   0   0   0   0   0   0   0   0   0   0   0   0   0   0   0   0\n",
      "    0  16 197 253 253 104   0   0   0   0]\n",
      " [  0   0   0   0   0   0   0   0  67 154   0   0   0   0   0   0   0   0\n",
      "    0   0  96 249 253 236   0   0   0   0]\n",
      " [  0   0   0   0   0   0  20 102 245 223   0   0   0   0   0   0   0   0\n",
      "    0   0   0 133 253 253   0   0   0   0]\n",
      " [  0   0   0   0   0   0 164 253 253 143   0   0   0   0   0   0   0   0\n",
      "    0   0   0  90 253 253   0   0   0   0]\n",
      " [  0   0   0   0 135 134 248 253 134 134 134 134 112   0   0   0   0   0\n",
      "    0   0   0  90 253 253   0   0   0   0]\n",
      " [  0   0   0   0 254 253 253 253 253 253 253 253 251 239 179  90  90  48\n",
      "    0   0   0 117 253 226   0   0   0   0]\n",
      " [  0   0   0   0 121 253 253 253 253 253 253 253 253 253 254 253 253 225\n",
      "  194 194 194 239 253 104   0   0   0   0]\n",
      " [  0   0   0   0 106 254 239 104 236 253 173 104 218 253 254 253 253 253\n",
      "  253 253 253 255 236  62   0   0   0   0]\n",
      " [  0   0   0   0 229 253 115   0   0   0   0   0   0   0 150 174 254 254\n",
      "  254 254 254 255 254 105   0   0   0   0]\n",
      " [  0   0   0   0 246 253  98   0   0   0   0   0   0   0   0  11  44  44\n",
      "   58 175 253 253 253 227   0   0   0   0]\n",
      " [  0   0   0   0 105 253 238   0   0   0   0   0   0   0   0   0   8 120\n",
      "  238 253 253 210 215 244   0   0   0   0]\n",
      " [  0   0   0   0 105 253 251 153   9   0   0   0   0   0   0  63 174 253\n",
      "  253 253 213  27 103  55   0   0   0   0]\n",
      " [  0   0   0   0  31 204 253 253 188  74  30  30  30  30 181 240 253 253\n",
      "  244 205  35   0   0   0   0   0   0   0]\n",
      " [  0   0   0   0   0  29 206 253 253 253 253 253 253 253 254 253 253 253\n",
      "   99   0   0   0   0   0   0   0   0   0]\n",
      " [  0   0   0   0   0   0  18 163 243 253 253 253 253 253 255 178 154  14\n",
      "    2   0   0   0   0   0   0   0   0   0]\n",
      " [  0   0   0   0   0   0   0   0  52  77 208 208 208 120  59  11   0   0\n",
      "    0   0   0   0   0   0   0   0   0   0]\n",
      " [  0   0   0   0   0   0   0   0   0   0   0   0   0   0   0   0   0   0\n",
      "    0   0   0   0   0   0   0   0   0   0]\n",
      " [  0   0   0   0   0   0   0   0   0   0   0   0   0   0   0   0   0   0\n",
      "    0   0   0   0   0   0   0   0   0   0]\n",
      " [  0   0   0   0   0   0   0   0   0   0   0   0   0   0   0   0   0   0\n",
      "    0   0   0   0   0   0   0   0   0   0]\n",
      " [  0   0   0   0   0   0   0   0   0   0   0   0   0   0   0   0   0   0\n",
      "    0   0   0   0   0   0   0   0   0   0]\n",
      " [  0   0   0   0   0   0   0   0   0   0   0   0   0   0   0   0   0   0\n",
      "    0   0   0   0   0   0   0   0   0   0]]\n"
     ]
    }
   ],
   "source": [
    "print(arr)"
   ]
  },
  {
   "cell_type": "code",
   "execution_count": 5,
   "metadata": {},
   "outputs": [
    {
     "data": {
      "text/plain": [
       "(28, 28)"
      ]
     },
     "execution_count": 5,
     "metadata": {},
     "output_type": "execute_result"
    }
   ],
   "source": [
    "arr.shape"
   ]
  },
  {
   "cell_type": "code",
   "execution_count": 21,
   "metadata": {},
   "outputs": [],
   "source": [
    "pattern = [0,1,0,0,2,0,0,0,0]"
   ]
  },
  {
   "cell_type": "code",
   "execution_count": 22,
   "metadata": {},
   "outputs": [],
   "source": [
    "fin_img = generate_image(pattern)"
   ]
  },
  {
   "cell_type": "code",
   "execution_count": 23,
   "metadata": {},
   "outputs": [],
   "source": [
    "import matplotlib.pyplot as plt"
   ]
  },
  {
   "cell_type": "code",
   "execution_count": 24,
   "metadata": {},
   "outputs": [
    {
     "data": {
      "text/plain": [
       "<matplotlib.image.AxesImage at 0x1b92932fa90>"
      ]
     },
     "execution_count": 24,
     "metadata": {},
     "output_type": "execute_result"
    },
    {
     "data": {
      "image/png": "[encoded data removed]",
      "text/plain": [
       "<Figure size 640x480 with 1 Axes>"
      ]
     },
     "metadata": {},
     "output_type": "display_data"
    }
   ],
   "source": [
    "plt.imshow(fin_img)"
   ]
  },
  {
   "cell_type": "markdown",
   "metadata": {},
   "source": [
    "Testing the helper functions"
   ]
  },
  {
   "cell_type": "code",
   "execution_count": 25,
   "metadata": {},
   "outputs": [],
   "source": [
    "from Helper_functions import get_pattern,generate_image,tester"
   ]
  },
  {
   "cell_type": "code",
   "execution_count": 29,
   "metadata": {},
   "outputs": [],
   "source": [
    "img = generate_image([2,1,2,1,2,1,2,1,2])"
   ]
  },
  {
   "cell_type": "code",
   "execution_count": 30,
   "metadata": {},
   "outputs": [
    {
     "data": {
      "text/plain": [
       "<matplotlib.image.AxesImage at 0x1b929153650>"
      ]
     },
     "execution_count": 30,
     "metadata": {},
     "output_type": "execute_result"
    },
    {
     "data": {
      "image/png": "[encoded data removed]",
      "text/plain": [
       "<Figure size 640x480 with 1 Axes>"
      ]
     },
     "metadata": {},
     "output_type": "display_data"
    }
   ],
   "source": [
    "plt.imshow(img)"
   ]
  },
  {
   "cell_type": "code",
   "execution_count": 31,
   "metadata": {},
   "outputs": [],
   "source": [
    "arr = [2,1,2,1,2,1,2,1,2]"
   ]
  },
  {
   "cell_type": "code",
   "execution_count": 32,
   "metadata": {},
   "outputs": [
    {
     "ename": "UnboundLocalError",
     "evalue": "cannot access local variable 'index' where it is not associated with a value",
     "output_type": "error",
     "traceback": [
      "\u001b[1;31m---------------------------------------------------------------------------\u001b[0m",
      "\u001b[1;31mUnboundLocalError\u001b[0m                         Traceback (most recent call last)",
      "\u001b[1;32mc:\\Users\\arush\\Downloads\\ICG Comp\\tic-tac-toe_player-agent\\testing.ipynb Cell 16\u001b[0m line \u001b[0;36m1\n\u001b[1;32m----> <a href='vscode-notebook-cell:/c%3A/Users/arush/Downloads/ICG%20Comp/tic-tac-toe_player-agent/testing.ipynb#X24sZmlsZQ%3D%3D?line=0'>1</a>\u001b[0m get_pattern(arr,\u001b[39m0\u001b[39;49m,\u001b[39mNone\u001b[39;49;00m)\n",
      "File \u001b[1;32mc:\\Users\\arush\\Downloads\\ICG Comp\\tic-tac-toe_player-agent\\Helper_functions.py:150\u001b[0m, in \u001b[0;36mget_pattern\u001b[1;34m(querry_array, Flag, user)\u001b[0m\n\u001b[0;32m    146\u001b[0m     board \u001b[39m=\u001b[39m tt\u001b[39m.\u001b[39mresult(board, move)\n\u001b[0;32m    149\u001b[0m tester(board, index)\n\u001b[1;32m--> 150\u001b[0m \u001b[39mreturn\u001b[39;00m np\u001b[39m.\u001b[39mreshape(np\u001b[39m.\u001b[39marray(board), (\u001b[39m1\u001b[39m,\u001b[39m9\u001b[39m))\n\u001b[0;32m    151\u001b[0m \u001b[39mpass\u001b[39;00m\n",
      "\u001b[1;31mUnboundLocalError\u001b[0m: cannot access local variable 'index' where it is not associated with a value"
     ]
    }
   ],
   "source": [
    "get_pattern(arr,0,None)"
   ]
  },
  {
   "cell_type": "code",
   "execution_count": null,
   "metadata": {},
   "outputs": [],
   "source": []
  }
 ],
 "metadata": {
  "kernelspec": {
   "display_name": "Python 3",
   "language": "python",
   "name": "python3"
  },
  "language_info": {
   "codemirror_mode": {
    "name": "ipython",
    "version": 3
   },
   "file_extension": ".py",
   "mimetype": "text/x-python",
   "name": "python",
   "nbconvert_exporter": "python",
   "pygments_lexer": "ipython3",
   "version": "3.10.12"
  }
 },
 "nbformat": 4,
 "nbformat_minor": 2
}
