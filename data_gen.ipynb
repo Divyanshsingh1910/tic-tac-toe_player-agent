{
 "cells": [
  {
   "cell_type": "code",
   "execution_count": 1,
   "metadata": {},
   "outputs": [
    {
     "name": "stdout",
     "output_type": "stream",
     "text": [
      "4520\n"
     ]
    }
   ],
   "source": [
    "from tictactoe.tictactoe import terminal, utility, minimax, winner\n",
    "import numpy as np\n",
    "\n",
    "data = []\n",
    "\n",
    "arr = {0 : \"X\", 1 : \"O\", 2 : None}\n",
    "\n",
    "for i_0 in range(3):\n",
    "    for i_1 in range(3):\n",
    "        for i_2 in range(3):\n",
    "            for i_3 in range(3):\n",
    "                for i_4 in range(3):\n",
    "                    for i_5 in range(3):\n",
    "                        for i_6 in range(3):\n",
    "                            for i_7 in range(3):\n",
    "                                for i_8 in range(3):\n",
    "\n",
    "                                    board = np.array([i_0, i_1, i_2, i_3, i_4, i_5, i_6, i_7, i_8])\n",
    "                                    board_2 = np.array([arr[i] for i in board])\n",
    "\n",
    "                                    if terminal(board_2.reshape(3,3)):\n",
    "                                        continue\n",
    "\n",
    "                                    count_0 = 0\n",
    "                                    count_X = 0\n",
    "                                    for i in range(9):\n",
    "                                        if board[i] == 0:\n",
    "                                            count_X += 1\n",
    "                                        elif board[i] == 1:\n",
    "                                            count_0 += 1\n",
    "\n",
    "                                    if count_X == count_0:\n",
    "                                        data.append((board, 'X'))\n",
    "                                    elif count_X == count_0 + 1:\n",
    "                                        data.append((board, 'O'))\n",
    "\n",
    "print(len(data))\n",
    "\n",
    "# 0 is X and 1 is O\n",
    "# if both count are equal then X will be the one to move first"
   ]
  },
  {
   "cell_type": "code",
   "execution_count": 2,
   "metadata": {},
   "outputs": [],
   "source": [
    "import numpy as np\n",
    "import matplotlib.pyplot as plt\n",
    "\n",
    "from Player import player_main, turn\n",
    "from tictactoe.tictactoe import terminal\n",
    "from Helper_functions import get_pattern,generate_image,tester"
   ]
  },
  {
   "cell_type": "code",
   "execution_count": null,
   "metadata": {},
   "outputs": [],
   "source": []
  },
  {
   "cell_type": "code",
   "execution_count": 3,
   "metadata": {},
   "outputs": [],
   "source": [
    "import os\n",
    "# Create the data_set folder if it doesn't exist\n",
    "if not os.path.exists(\"data_set\"):\n",
    "    os.makedirs(\"data_set\")"
   ]
  },
  {
   "cell_type": "code",
   "execution_count": 4,
   "metadata": {},
   "outputs": [
    {
     "data": {
      "image/png": "[encoded data removed]",
      "text/plain": [
       "<Figure size 640x480 with 1 Axes>"
      ]
     },
     "metadata": {},
     "output_type": "display_data"
    }
   ],
   "source": [
    "for i in range(1877, 1886):\n",
    "    img = generate_image(data[i][0])\n",
    "    plt.imshow(img)\n",
    "    plt.savefig(f\"data_set/{i}.png\")"
   ]
  },
  {
   "cell_type": "code",
   "execution_count": null,
   "metadata": {},
   "outputs": [],
   "source": []
  }
 ],
 "metadata": {
  "kernelspec": {
   "display_name": "MachineLearning",
   "language": "python",
   "name": "python3"
  },
  "language_info": {
   "codemirror_mode": {
    "name": "ipython",
    "version": 3
   },
   "file_extension": ".py",
   "mimetype": "text/x-python",
   "name": "python",
   "nbconvert_exporter": "python",
   "pygments_lexer": "ipython3",
   "version": "3.10.12"
  }
 },
 "nbformat": 4,
 "nbformat_minor": 2
}
