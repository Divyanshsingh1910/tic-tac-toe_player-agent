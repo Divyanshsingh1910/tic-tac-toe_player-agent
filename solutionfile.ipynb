{
  "cells": [
    {
      "cell_type": "code",
      "execution_count": null,
      "metadata": {
        "id": "2k8N2td9SYNL"
      },
      "outputs": [],
      "source": [
        "import numpy as np\n",
        "import pandas as pd\n",
        "import matplotlib.pyplot as plt\n",
        "from PIL import Image\n",
        "import os\n",
        "from os import listdir\n",
        "import random\n",
        "import cv2\n",
        "import shutil"
      ]
    },
    {
      "cell_type": "code",
      "execution_count": null,
      "metadata": {
        "id": "XHYTToOGSsbW"
      },
      "outputs": [],
      "source": [
        "# from PIL import Image\n",
        "\n",
        "# def divide_image(image_path):\n",
        "#     original_image = Image.open(image_path)\n",
        "#     width, height = original_image.size\n",
        "\n",
        "#     sub_width = width // 3\n",
        "#     sub_height = height // 3\n",
        "\n",
        "#     sub_images = []\n",
        "\n",
        "#     for i in range(3):\n",
        "#         for j in range(3):\n",
        "#             left = j * sub_width\n",
        "#             upper = i * sub_height\n",
        "#             right = left + sub_width\n",
        "#             lower = upper + sub_height\n",
        "\n",
        "#             sub_image = original_image.crop((left, upper, right, lower))\n",
        "#          #making a few chanages to adjust to X O prediciton\n",
        "#           #sub_image is rn 2 dimensionm array\n",
        "#             sub_images.append(sub_image)\n",
        "\n",
        "#     return sub_images\n",
        "\n",
        "# def plot_sub_images(sub_images):\n",
        "#     fig, axes = plt.subplots(3, 3, figsize=(9, 9))\n",
        "\n",
        "#     for i, ax in enumerate(axes.flat):\n",
        "#         ax.imshow(sub_images[i])\n",
        "#         ax.axis(\"off\")\n",
        "#         ax.set_title(f\"Sub-image {i}\")\n",
        "\n",
        "#     plt.show()"
      ]
    },
    {
      "cell_type": "code",
      "source": [
        "def divide_image(image_path):\n",
        "      original_image = cv2.imread(image_path,0)\n",
        "        # Get image dimensions\n",
        "      height, width= original_image.shape\n",
        "\n",
        "      # Define the number of rows and columns for segmentation\n",
        "      rows = 3\n",
        "      cols = 3\n",
        "\n",
        "      # Calculate the height and width of each segment\n",
        "      sub_height = height // rows\n",
        "      sub_width = width // cols\n",
        "\n",
        "      # Initialize an array to store segmented images\n",
        "      sub_images = []\n",
        "\n",
        "      for i in range(rows):\n",
        "          for j in range(cols):\n",
        "              # Calculate the starting and ending points of each segment\n",
        "              start_row = i * sub_height\n",
        "              end_row = (i + 1) * sub_height\n",
        "              start_col = j * sub_width\n",
        "              end_col = (j + 1) * sub_width\n",
        "\n",
        "              # Extract the segment from the original image\n",
        "              segment = original_image[start_row:end_row, start_col:end_col]\n",
        "              segment = (cv2.resize(segment, (14,14))).reshape((14*14))\n",
        "\n",
        "              #print(segment.shape)\n",
        "                # Append the segmented image to the array\n",
        "              sub_images.append(segment)  # bascially stores 2 D array where each element is array of n*n elemnts having the grayscale value of images\n",
        "      return sub_images\n",
        "\n"
      ],
      "metadata": {
        "id": "nzvJKXl6vAA4"
      },
      "execution_count": null,
      "outputs": []
    },
    {
      "cell_type": "markdown",
      "source": [
        "How to predict X and O"
      ],
      "metadata": {
        "id": "0186L4gGfCNt"
      }
    },
    {
      "cell_type": "code",
      "source": [
        "from google.colab import drive\n",
        "drive.mount('/content/drive')"
      ],
      "metadata": {
        "colab": {
          "base_uri": "https://localhost:8080/"
        },
        "id": "R1wZP4C80ybu",
        "outputId": "8c781dce-b330-4e34-f810-465d3a6595b3"
      },
      "execution_count": null,
      "outputs": [
        {
          "output_type": "stream",
          "name": "stdout",
          "text": [
            "Mounted at /content/drive\n"
          ]
        }
      ]
    },
    {
      "cell_type": "code",
      "source": [
        "n = 14 # You can change this to the desired size\n",
        "# Create a 2D array filled with zeros\n",
        "array = np.zeros((n, n))\n",
        "# Fill the diagonal with 1s\n",
        "np.fill_diagonal(np.fliplr(array), 255)  #fills the anti diaognal\n",
        "np.fill_diagonal(array,255)\n",
        "print(array)\n",
        "sub_array=[  0,   0,   0,   0,   1,   0,   0,   0,   0,   0,   0,   0,   0,\n",
        "         0,   0,   0,   0,   0,  29, 114,  11,   0,   0,   0,   0,   0,\n",
        "         0,   0,   0,   0,   0,   0,  86, 231,  94,   7,  11,   1,  14,\n",
        "         3,   0,   0,   0,   0,   0, 118, 222, 183, 220, 155, 186, 169,\n",
        "       171,  11,   0,   0,   0,   0,  48, 219,  53,  19, 193,  57, 102,\n",
        "       226, 235,  59,   0,   0,   0,   0, 111, 171,   0,   0, 137,  93,\n",
        "       163,  85, 114, 192,  10,   0,   0,   0, 137, 170,   0,   0,  60,\n",
        "       230, 143,   0,  11, 207,  68,   0,   0,   0,  91, 199,   6,   0,\n",
        "        94, 254,  92,   0,   0, 162, 106,   0,   0,   0,  20, 212, 100,\n",
        "        43, 199, 224, 154,   0,   0, 161, 123,   0,   0,   0,   0,  69,\n",
        "       224, 211, 135, 116, 220,  37,  57, 220,  61,   0,   0,   0,   0,\n",
        "         0, 143, 232, 212, 189, 255, 215, 225, 111,   0,   0,   0,   0,\n",
        "         0,   1,  11,  22,  93, 139, 114, 108,  51,   0,   0,   0,   0,\n",
        "         0,   0,   0,   0,   0,   0,   0,   0,   0,   0,   0,   0,   0,\n",
        "         0,   0,   0,   0,   0,   0,   0,   0,   0,   0,   0,   0,   0,\n",
        "         0]\n",
        "array=sub_array;    # making the ideal X\n",
        "eu_dist_ar=[];\n",
        "array=np.array(array).reshape(n*n,-1)\n",
        "eu_dist_ar_2=[];\n",
        "\n",
        "#Making the train and test  Dataset\n",
        "ones=\"/content/drive/MyDrive/Competition Dataset/Modified_Images/crosses\"# the Superst folder containg Xs/1s\n",
        "zeros=\"/content/drive/MyDrive/Competition Dataset/Modified_Images/zeros\"  # the superset folder conaint 0s/0s\n",
        "#splitting into train and test for  zeros/0s and then for ones/Xs\n",
        "ztrain_directory = \"/content/drive/MyDrive/Competition Dataset/Modified_Images/zeros_train\"\n",
        "ztest_directory = '/content/drive/MyDrive/Competition Dataset/Modified_Images/zeros_test'\n",
        "otrain_directory = \"/content/drive/MyDrive/Competition Dataset/Modified_Images/crosses_train\"\n",
        "otest_directory = '/content/drive/MyDrive/Competition Dataset/Modified_Images/crosses_test'\n",
        "\n",
        "\n",
        "#Clearing the directories\n",
        "\n",
        "for file in os.listdir(ztrain_directory):\n",
        "    path=os.path.join(ztrain_directory,file)\n",
        "    os.remove(path)\n",
        "for file in os.listdir(ztest_directory):\n",
        "    path=os.path.join(ztest_directory,file)\n",
        "    os.remove(path)\n",
        "for file in os.listdir(otrain_directory):\n",
        "    path=os.path.join(otrain_directory,file)\n",
        "    os.remove(path)\n",
        "for file in os.listdir(otest_directory):\n",
        "    path=os.path.join(otest_directory,file)\n",
        "    os.remove(path)\n",
        "\n",
        "#Splittin the images from superset directory to new directories\n",
        "\n",
        "os.makedirs(ztrain_directory, exist_ok=True)\n",
        "os.makedirs(ztest_directory, exist_ok=True)\n",
        "\n",
        "split_ratio = 0.8\n",
        "\n",
        "# List all files in the image directory\n",
        "image_files = os.listdir(zeros)\n",
        "\n",
        "# Shuffle the list of image files\n",
        "random.shuffle(image_files)\n",
        "\n",
        "# Calculate the number of images for each set\n",
        "num_images = len(image_files)\n",
        "num_train = int(num_images * split_ratio)\n",
        "num_test = num_images - num_train\n",
        "\n",
        "# Copy images to the training and test directories\n",
        "for i, image_file in enumerate(image_files):\n",
        "    source_path = os.path.join(zeros, image_file)\n",
        "    if i < num_train:\n",
        "        target_directory = ztrain_directory\n",
        "    else:\n",
        "        target_directory = ztest_directory\n",
        "    target_path = os.path.join(target_directory, image_file)\n",
        "    shutil.copy(source_path, target_path)\n",
        "\n",
        "print(f\"Split {num_train} images for training and {num_test} images for testing.\")\n",
        "\n",
        "\n",
        "#SPLITTING FOR ZEROS\n",
        "os.makedirs(otrain_directory, exist_ok=True)\n",
        "os.makedirs(otest_directory, exist_ok=True)\n",
        "\n",
        "split_ratio = 0.8\n",
        "\n",
        "# List all files in the image directory\n",
        "image_files = os.listdir(zeros)\n",
        "\n",
        "# Shuffle the list of image files\n",
        "random.shuffle(image_files)\n",
        "\n",
        "# Calculate the number of images for each set\n",
        "num_images = len(image_files)\n",
        "num_train = int(num_images * split_ratio)\n",
        "num_test = num_images - num_train\n",
        "\n",
        "# Copy images to the training and test directories\n",
        "for i, image_file in enumerate(image_files):\n",
        "    source_path = os.path.join(ones, image_file)\n",
        "    if i < num_train:\n",
        "        target_directory = otrain_directory\n",
        "    else:\n",
        "        target_directory = otest_directory\n",
        "    target_path = os.path.join(target_directory, image_file)\n",
        "    shutil.copy(source_path, target_path)\n",
        "\n",
        "print(f\"Split {num_train} images for training and {num_test} images for testing.\")\n"
      ],
      "metadata": {
        "colab": {
          "base_uri": "https://localhost:8080/"
        },
        "id": "mw6kMc-JfF97",
        "outputId": "af7e1a67-eb89-4777-ee48-d66386ef058f"
      },
      "execution_count": null,
      "outputs": [
        {
          "output_type": "stream",
          "name": "stdout",
          "text": [
            "[[255.   0.   0.   0.   0.   0.   0.   0.   0.   0.   0.   0.   0. 255.]\n",
            " [  0. 255.   0.   0.   0.   0.   0.   0.   0.   0.   0.   0. 255.   0.]\n",
            " [  0.   0. 255.   0.   0.   0.   0.   0.   0.   0.   0. 255.   0.   0.]\n",
            " [  0.   0.   0. 255.   0.   0.   0.   0.   0.   0. 255.   0.   0.   0.]\n",
            " [  0.   0.   0.   0. 255.   0.   0.   0.   0. 255.   0.   0.   0.   0.]\n",
            " [  0.   0.   0.   0.   0. 255.   0.   0. 255.   0.   0.   0.   0.   0.]\n",
            " [  0.   0.   0.   0.   0.   0. 255. 255.   0.   0.   0.   0.   0.   0.]\n",
            " [  0.   0.   0.   0.   0.   0. 255. 255.   0.   0.   0.   0.   0.   0.]\n",
            " [  0.   0.   0.   0.   0. 255.   0.   0. 255.   0.   0.   0.   0.   0.]\n",
            " [  0.   0.   0.   0. 255.   0.   0.   0.   0. 255.   0.   0.   0.   0.]\n",
            " [  0.   0.   0. 255.   0.   0.   0.   0.   0.   0. 255.   0.   0.   0.]\n",
            " [  0.   0. 255.   0.   0.   0.   0.   0.   0.   0.   0. 255.   0.   0.]\n",
            " [  0. 255.   0.   0.   0.   0.   0.   0.   0.   0.   0.   0. 255.   0.]\n",
            " [255.   0.   0.   0.   0.   0.   0.   0.   0.   0.   0.   0.   0. 255.]]\n",
            "Split 800 images for training and 200 images for testing.\n",
            "Split 800 images for training and 200 images for testing.\n"
          ]
        }
      ]
    },
    {
      "cell_type": "code",
      "execution_count": null,
      "metadata": {
        "id": "EYsJmuJQKeL-"
      },
      "outputs": [],
      "source": [
        "#dealing with images of zeros\n",
        "#zeros its the folder in which images are stored\n",
        "for img in os.listdir(otrain_directory):\n",
        "  temp=(Image.open(\"{}/{}\".format(otrain_directory,img))).resize((n,n))  #extracts the image and changes its resolution to n*n\n",
        "  temp=temp.convert(\"L\")                                      #ensuring conversion to grayscale\n",
        "  pix=np.array(list(temp.getdata()))\n",
        "  eu_dist=np.linalg.norm(array-pix)\n",
        "  eu_dist_ar.append(eu_dist)"
      ]
    },
    {
      "cell_type": "code",
      "execution_count": null,
      "metadata": {
        "id": "8r8Q7tunk8le"
      },
      "outputs": [],
      "source": [
        "#dealing with images of zeros\n",
        "#zeros its the folder in which images are stored\n",
        "for img in os.listdir(ztrain_directory):\n",
        "  temp=Image.open(\"{}/{}\".format(ztrain_directory,img)).resize((n,n))\n",
        "  temp=temp.convert(\"L\")  #ensuring conversion to grayscale\n",
        "  pix=np.array(list(temp.getdata()))\n",
        "  eu_dist=np.linalg.norm(array-pix)    #cslculstrd the eucleidean distance between the two arrays / images\n",
        "  eu_dist_ar_2.append(eu_dist)"
      ]
    },
    {
      "cell_type": "code",
      "execution_count": null,
      "metadata": {
        "id": "vyAR2POb0V8s"
      },
      "outputs": [],
      "source": [
        "abin=min([min(eu_dist_ar),min(eu_dist_ar_2)])\n",
        "bbin=min([max(eu_dist_ar),max(eu_dist_ar_2)])   #decides the range of bins in histogram plot and helps keep bins same across both lists\n",
        "nbin=15"
      ]
    },
    {
      "cell_type": "code",
      "execution_count": null,
      "metadata": {
        "id": "QvK9hI2kxQ_7",
        "colab": {
          "base_uri": "https://localhost:8080/",
          "height": 430
        },
        "outputId": "c4351a7b-c858-4284-b429-6a8b1957fabe"
      },
      "outputs": [
        {
          "output_type": "display_data",
          "data": {
            "text/plain": [
              "<Figure size 640x480 with 1 Axes>"
            ],
            "image/png": "[encoded data removed]"
          },
          "metadata": {}
        }
      ],
      "source": [
        "eu_dist_ar=np.array(eu_dist_ar)\n",
        "eu_dist_ar_2=np.array(eu_dist_ar_2)\n",
        "l=plt.hist(eu_dist_ar,bins=nbin,range=(abin,bbin), density=True, alpha=0.6, color='r', edgecolor=\"red\", label=\"Dist of Xs\" )\n",
        "m=plt.hist(eu_dist_ar_2,bins=nbin,range=(abin,bbin),density=True, alpha=0.6, color='g', edgecolor=\"black\", label=\"Dis of  0s\" )\n",
        "#plt.hist(eu_dist_ar-eu_dist_ar_2, bins=10, desntiry=True, alpha=0.6, color = 'y', edgecolor=\"b\n",
        "plt.legend()\n",
        "plt.show()\n"
      ]
    },
    {
      "cell_type": "code",
      "execution_count": null,
      "metadata": {
        "id": "8bLQrQxC1Tn_"
      },
      "outputs": [],
      "source": [
        "#APPLY THE FOLLOWING CODES ON  TEST DATASETS TO UNDERSTAND THE ACCURACYT\n",
        "#running the model for images of X\n",
        "t=0\n",
        "w=0\n",
        "p='X'\n",
        "for img in os.listdir(otest_directory):\n",
        "  temp=(Image.open(\"{}/{}\".format(otest_directory,img))).resize((n,n))  #extracts the image and changes its resolution to n*n\n",
        "  temp=temp.convert(\"L\")                                      #ensuring conversion to grayscale\n",
        "  pix=np.array(list(temp.getdata()))\n",
        "  eu_dist_test=np.linalg.norm(array-pix)\n",
        "  c=-1\n",
        "  v=eu_dist_test\n",
        "  for i in range(0,nbin):\n",
        "     if (l[1][0]> v):\n",
        "       c=-1\n",
        "       break;\n",
        "     if(l[1][nbin]<v):\n",
        "       c=+200\n",
        "       break;\n",
        "     if((l[1][i]<v)  & (l[1][i+1]>v)):\n",
        "        c=i\n",
        "        break;\n",
        "  if( c == -1):\n",
        "    p='X'\n",
        "    print(\"Image is an X\")\n",
        "  elif ( c== 200):\n",
        "    p='0'\n",
        "    print(\" Image is a 0\")\n",
        "  elif ( l[0][c]> m[0][c]):\n",
        "    p='X'\n",
        "    print(\"Image is an X\")\n",
        "  else :\n",
        "    p='0'\n",
        "    print(\"Image is a 0\");\n",
        "  if(p=='X'):\n",
        "    t=t+1\n",
        "  else:\n",
        "    w=w+1\n",
        "#you cna print t and w to understand the accuracy of predictions\n"
      ]
    },
    {
      "cell_type": "code",
      "source": [
        "\n",
        "#running the model for images of X\n",
        "t=0\n",
        "w=0\n",
        "p='X'\n",
        "for img in os.listdir(ztest_directory):\n",
        "  temp=(Image.open(\"{}/{}\".format(ztest_directory,img))).resize((n,n))  #extracts the image and changes its resolution to n*n\n",
        "  temp=temp.convert(\"L\")                                      #ensuring conversion to grayscale\n",
        "  pix=np.array(list(temp.getdata()))\n",
        "  eu_dist_test=np.linalg.norm(array-pix)\n",
        "  c=-1\n",
        "  v=eu_dist_test\n",
        "  for i in range(0,nbin):\n",
        "     if (l[1][0]> v):\n",
        "       c=-1\n",
        "       break;\n",
        "     if(l[1][nbin]<v):\n",
        "       c=+200\n",
        "       break;\n",
        "     if((l[1][i]<v)  & (l[1][i+1]>v)):\n",
        "        c=i\n",
        "        break;\n",
        "  if( c == -1):\n",
        "    p='X'\n",
        "    print(\"Image is an X\")\n",
        "  elif ( c== 200):\n",
        "    p='0'\n",
        "    print(\" Image is a 0\")\n",
        "  elif ( l[0][c]> m[0][c]):\n",
        "    p='X'\n",
        "    print(\"Image is an X\")\n",
        "  else :\n",
        "    p='0'\n",
        "    print(\"Image is a 0\");\n",
        "  if(p=='0'):\n",
        "    t=t+1\n",
        "  else:\n",
        "    w=w+1\n",
        "#you cna print t and w to understand the accuracy of predictions"
      ],
      "metadata": {
        "id": "51Ug1-D2jMyR"
      },
      "execution_count": null,
      "outputs": []
    },
    {
      "cell_type": "markdown",
      "source": [
        "Actual function to predict X and 0\n"
      ],
      "metadata": {
        "id": "MrdrQ0GjmAVW"
      }
    },
    {
      "cell_type": "code",
      "source": [
        "def sit_predictor(segmented_images):\n",
        "  predict_img=[]\n",
        "  for img in segmented_images :\n",
        "    eu_dist_test=np.linalg.norm(array-img)\n",
        "       #euclidean distance between ideal X and given image\n",
        "    v=eu_dist_test\n",
        "    print(v)\n",
        "    if(np.linalg.norm(img)<=abin):\n",
        "      predict_img.append(2);\n",
        "    else :\n",
        "      for i in range(0,nbin):\n",
        "        if (l[1][0]> v):\n",
        "           c=-1\n",
        "           break;\n",
        "        if(l[1][nbin]<v):\n",
        "            c=+200\n",
        "            break;\n",
        "        if((l[1][i]<v)  & (l[1][i+1]>v)):\n",
        "           c=i\n",
        "           break;\n",
        "      if( c == -1):\n",
        "        # p='X'\n",
        "        # print(\"Image is an X\")\n",
        "        predict_img.append(0)\n",
        "      elif ( c== 200):\n",
        "        # p='0'\n",
        "        # print(\" Image is a 0\")\n",
        "        predict_img.append(1)\n",
        "      elif ( l[0][c]> m[0][c]):\n",
        "        # p='X'\n",
        "        # print(\"Image is an X\")\n",
        "        predict_img.append(0)\n",
        "      else :\n",
        "        #  p='0'\n",
        "        #   print(\"Image is a 0\");\n",
        "        predict_img.append(1)\n",
        "      # if(p=='0'):\n",
        "      #   t=t+1\n",
        "      # else:\n",
        "      #   w=w+1\n",
        "  return predict_img"
      ],
      "metadata": {
        "id": "z6d4u74CmDB6"
      },
      "execution_count": null,
      "outputs": []
    },
    {
      "cell_type": "code",
      "source": [
        "def evaluate(board):  # for checking if X/O has already won\n",
        "    for row in board:\n",
        "        if all(cell == 1 for cell in row):\n",
        "            return -1\n",
        "        elif all(cell == 0 for cell in row):\n",
        "            return 1\n",
        "\n",
        "    for col in board.T:\n",
        "        if all(cell == 1 for cell in col):\n",
        "            return -1\n",
        "        elif all(cell == 0 for cell in col):\n",
        "            return 1\n",
        "\n",
        "    if all(board[i, i] == 1 for i in range(3)) or all(board[i, 2 - i] == 1 for i in range(3)):\n",
        "        return -1\n",
        "    elif all(board[i, i] == 0 for i in range(3)) or all(board[i, 2 - i] == 0 for i in range(3)):\n",
        "        return 1\n",
        "\n",
        "    return 0\n",
        "\n",
        "def is_board_full(board):   # for checking if there are blank spaces to play\n",
        "    return not any(cell == 2 for row in board for cell in row)\n",
        "\n",
        "def minimax(board, depth, is_maximizing):    # the main algorithm\n",
        "    score = evaluate(board)\n",
        "\n",
        "    if score != 0:\n",
        "        return score\n",
        "\n",
        "    if is_board_full(board):\n",
        "        return 0\n",
        "\n",
        "    if is_maximizing:\n",
        "        max_eval = float('-inf')\n",
        "        for i in range(3):\n",
        "            for j in range(3):\n",
        "                if board[i, j] == 2:\n",
        "                    board[i, j] = 1\n",
        "                    eval = minimax(board, depth + 1, False)\n",
        "                    board[i, j] = 2\n",
        "                    max_eval = max(max_eval, eval)\n",
        "        return max_eval\n",
        "    else:\n",
        "        min_eval = float('inf')\n",
        "        for i in range(3):\n",
        "            for j in range(3):\n",
        "                if board[i, j] == 2:\n",
        "                    board[i, j] = 0\n",
        "                    eval = minimax(board, depth + 1, True)\n",
        "                    board[i, j] = 2\n",
        "                    min_eval = min(min_eval, eval)\n",
        "        return min_eval\n",
        "\n",
        "def find_best_move(board):    # for finding next move based on given board state\n",
        "    best_val = float('-inf')\n",
        "    best_move = (-1, -1)\n",
        "    if(not is_board_full(board)):\n",
        "      if(not evaluate(board)):\n",
        "        for i in range(3):\n",
        "            for j in range(3):\n",
        "                if board[i, j] == 2:\n",
        "                    board[i, j] = 1\n",
        "                    move_val = minimax(board, 0, False)\n",
        "                    board[i, j] = 2\n",
        "                    if move_val > best_val:\n",
        "                        best_move = (i, j)\n",
        "                        best_val = move_val\n",
        "\n",
        "        return best_move\n",
        "      else:\n",
        "        return None   #return None if match is already won by X or O\n",
        "    else:\n",
        "      return None     # return None if board is full\n"
      ],
      "metadata": {
        "id": "2JQF-TZigewo"
      },
      "execution_count": null,
      "outputs": []
    },
    {
      "cell_type": "code",
      "source": [
        "image_path = \"/content/WhatsApp Image 2023-12-16 at 11.37.48.jpeg\"\n",
        "sub_images = divide_image(image_path)\n",
        "#gr = [np.array(image.convert(\"L\").resize((28,28))) for image in sub_images]\n",
        "#sy = np.stack(gr, axis=0)\n",
        "#sy = sy.reshape(sy.shape[0],28,28,1)\n",
        "#y_pred_arr = np.argmax(model.predict(sy),axis=1)\n",
        "#board = y_pred_arr.reshape(3,3)\n",
        "#next_move = find_best_move(board)\n",
        "predicted_array=sit_predictor(sub_images)\n",
        "predicted_array=np.array(predicted_array).reshape(3,3)\n",
        "\n",
        "print(find_best_move(predicted_array))"
      ],
      "metadata": {
        "colab": {
          "base_uri": "https://localhost:8080/"
        },
        "id": "cnCpuD0oAfOO",
        "outputId": "49ee8294-67cc-4105-cc87-38cee248a979"
      },
      "execution_count": null,
      "outputs": [
        {
          "output_type": "stream",
          "name": "stdout",
          "text": [
            "(196,)\n",
            "(196,)\n",
            "(196,)\n",
            "(196,)\n",
            "(196,)\n",
            "(196,)\n",
            "(196,)\n",
            "(196,)\n",
            "(196,)\n",
            "20558.113337560917\n",
            "16717.11159261671\n",
            "19256.473041551508\n",
            "22303.318811333887\n",
            "22070.053103696875\n",
            "22273.06525828899\n",
            "22079.247858566196\n",
            "23023.69262303508\n",
            "22110.685425829746\n",
            "(1, 1)\n"
          ]
        }
      ]
    },
    {
      "cell_type": "code",
      "source": [
        "predicted_array"
      ],
      "metadata": {
        "colab": {
          "base_uri": "https://localhost:8080/"
        },
        "id": "9RJdJcy54KXh",
        "outputId": "b9eb0394-a9eb-42c6-d297-2966bae400cd"
      },
      "execution_count": null,
      "outputs": [
        {
          "output_type": "execute_result",
          "data": {
            "text/plain": [
              "array([[1, 0, 1],\n",
              "       [1, 1, 0],\n",
              "       [1, 1, 1]])"
            ]
          },
          "metadata": {},
          "execution_count": 60
        }
      ]
    },
    {
      "cell_type": "code",
      "source": [
        "eu_dist_ar.shape"
      ],
      "metadata": {
        "id": "Pw2FaJIY67QD"
      },
      "execution_count": null,
      "outputs": []
    },
    {
      "cell_type": "code",
      "source": [
        "sub_images"
      ],
      "metadata": {
        "colab": {
          "base_uri": "https://localhost:8080/"
        },
        "id": "8CbJJVzj74R7",
        "outputId": "cde3ac32-0560-4d28-cb1a-de3455aae009"
      },
      "execution_count": null,
      "outputs": [
        {
          "output_type": "execute_result",
          "data": {
            "text/plain": [
              "[array([ 27,  29,  29,  29,  29,  29,  29,  29,  29,  29,  29,  29,  29,\n",
              "         29,  30,  30,  30,  30,  30,  30,  30,  30,  30,  29,  35,  30,\n",
              "         30,  30,  30,  30,  30,  30,  30,  30,  30,  30,  28, 122, 104,\n",
              "         31,  30,  30,  30,  30,  30,  30,  30,  30,  30,  52, 199, 213,\n",
              "        167,  30,  30,  30,  30,  30,  30,  30,  30,  31,  39, 202, 210,\n",
              "        139, 183,  32,  30,  30,  28,  30,  30,  30,  30,  31, 213, 182,\n",
              "         30,  86, 213,  70,  30,  30,  30,  30,  30,  35,  43, 211, 190,\n",
              "        174, 196, 201, 207, 202, 195,  30,  30,  30,  29, 193, 196, 214,\n",
              "        213, 201, 162, 213, 188, 115,  60,  30,  30,  30,  30, 172, 214,\n",
              "         30,  30,  30,  45, 213,  79,  31,  30,  30,  29,  30,  31, 214,\n",
              "         85,  30,  29,  60, 214, 202,  30,  30,  30,  30,  27,  30,  30,\n",
              "        135, 162, 199, 200, 214, 153,  28,  30,  30,  30,  30,  30,  30,\n",
              "         30,  32, 195, 213, 102,  26,  28,  30,  30,  30,  30,  30,  30,\n",
              "         30,  30,  30,  30,  30,  30,  30,  30,  30,  30,  30,  30,  30,\n",
              "         26,  29,  29,  29,  29,  29,  29,  29,  29,  29,  29,  29,  29,\n",
              "         29], dtype=uint8),\n",
              " array([107,  29,  29,  29,  29,  29,  29,  29,  29,  29,  29,  29,  29,\n",
              "         29, 108,  30,  30,  30,  30,  30,  30,  30,  30,  30,  30,  30,\n",
              "         30,  30, 108,  30,  30,  30,  30,  30,  30,  30,  30,  30,  30,\n",
              "         30,  30,  30, 108,  30,  30,  30,  30,  30,  30,  30,  30,  30,\n",
              "         30,  30,  30,  30, 108,  30,  30,  30,  30,  30,  30,  30,  30,\n",
              "         30,  30,  30,  30,  30, 108,  30,  30,  30,  30,  30,  30,  30,\n",
              "         30,  30,  30,  30,  30,  30, 108,  30,  30,  30,  30,  30,  30,\n",
              "         30,  30,  30,  30,  30,  30,  30, 108,  30,  30,  30,  30,  30,\n",
              "         30,  30,  30,  30,  30,  30,  30,  30, 108,  30,  30,  30,  30,\n",
              "         30,  30,  30,  30,  30,  30,  30,  30,  30, 108,  30,  30,  30,\n",
              "         30,  30,  30,  30,  30,  30,  30,  30,  30,  30, 108,  30,  30,\n",
              "         30,  30,  30,  30,  30,  30,  30,  30,  30,  30,  30, 108,  30,\n",
              "         30,  30,  30,  30,  30,  30,  30,  30,  30,  30,  30,  30, 108,\n",
              "         30,  30,  30,  30,  30,  30,  30,  30,  30,  30,  30,  30,  30,\n",
              "        103,  29,  29,  29,  29,  29,  29,  29,  29,  29,  29,  29,  29,\n",
              "         29], dtype=uint8),\n",
              " array([ 29,  29,  29,  29,  29,  29,  29,  29,  29,  29,  29,  29,  29,\n",
              "         29,  30,  30,  30,  30,  30,  30,  30,  30,  30,  30,  30,  30,\n",
              "         30,  30,  30,  30,  30,  30,  30,  32,  33,  28,  28,  29,  30,\n",
              "         30,  30,  30,  30,  30,  30,  30,  30, 120, 154, 118, 206,  30,\n",
              "         30,  30,  30,  30,  30,  30,  30,  33, 132, 192,  34,  35, 208,\n",
              "        113,  28,  30,  30,  30,  30,  30,  30, 101, 154,  30,  30,  37,\n",
              "        106, 110, 122,  30,  30,  30,  30,  30,  30, 197, 193, 184, 201,\n",
              "        205, 200, 196, 193,  38,  31,  30,  30,  30,  30, 184, 133, 122,\n",
              "         82,  82,  93, 135, 207, 130,  29,  30,  30,  30,  30, 190,  29,\n",
              "         30,  30,  30,  30,  45, 213,  30,  30,  30,  30,  30,  30, 139,\n",
              "         92,  30,  30,  30,  30,  74, 143,  30,  30,  30,  30,  30,  30,\n",
              "         68, 210,  40,  30,  30,  40, 216,  56,  30,  30,  30,  30,  30,\n",
              "         30,  29,  46, 185, 212, 212, 211,  40,  29,  30,  30,  30,  30,\n",
              "         30,  30,  30,  30,  30,  30,  31,  31,  30,  30,  30,  30,  30,\n",
              "         29,  29,  29,  29,  29,  29,  29,  29,  29,  29,  29,  29,  29,\n",
              "         29], dtype=uint8),\n",
              " array([ 25,  30,  30,  30,  30,  30,  30,  30,  30,  30,  30,  30,  30,\n",
              "         30,  30,  30,  30,  30,  30,  30,  30,  30,  31,  31,  31,  30,\n",
              "         30,  30,  30,  30,  30,  30,  30,  30,  29,  29,  31, 106,  50,\n",
              "         30,  30,  30,  30,  30,  30,  32,  33,  74,  32,  98, 211, 215,\n",
              "        177,  26,  30,  30,  30,  30,  30,  30, 191, 203, 212, 214, 215,\n",
              "        210, 210, 192,  30,  30,  30,  30,  30,  31, 175, 214, 207, 162,\n",
              "        218,  58,  76, 215,  30,  30,  30,  30,  29,  88, 212, 180, 213,\n",
              "        213, 189,  30,  42, 210,  30,  30,  30,  30,  32, 212,  72,  30,\n",
              "        180, 215, 206, 155,  86, 217,  30,  30,  30,  30, 190, 124,  30,\n",
              "         37, 102, 215, 214, 209, 208, 151,  33,  30,  30,  30, 212,  52,\n",
              "         30,  33, 186,  90,  34, 154, 212, 193,  30,  30,  30,  30, 158,\n",
              "        168,  51, 112, 216, 117, 174, 194,  75, 128,  32,  30,  30,  30,\n",
              "         31, 123, 206, 194, 212, 205, 185,  32,  30,  30,  30,  30,  30,\n",
              "         30,  30,  30,  29,  34,  34,  33,  30,  30,  30,  30,  30,  30,\n",
              "        152, 160, 160, 160, 160, 160, 160, 160, 160, 160, 160, 160, 160,\n",
              "        160], dtype=uint8),\n",
              " array([107,  30,  30,  30,  30,  30,  30,  30,  30,  30,  30,  30,  30,\n",
              "         30, 108,  30,  30,  30,  30,  30,  30,  30,  30,  30,  30,  30,\n",
              "         30,  30, 108,  30,  30,  30,  30,  29,  28,  29,  32,  30,  30,\n",
              "         30,  30,  30, 108,  30,  30,  30,  33, 148, 214, 214, 214, 167,\n",
              "         30,  30,  30,  30, 108,  30,  30,  30,  77, 213, 214, 214, 213,\n",
              "        214, 200,  29,  29,  30, 108,  30,  30,  30,  88, 173,  29,  30,\n",
              "         30, 103, 215, 213,  29,  30, 108,  30,  30,  30, 215,  58,  31,\n",
              "        131, 215, 213, 214, 173,  32,  30, 108,  30,  30,  30, 213, 184,\n",
              "        215, 214, 211,  91, 218, 138,  30,  30, 108,  30,  43, 119, 215,\n",
              "        213, 190,  75,  30,  38, 214,  83,  30,  30, 108,  30, 215, 217,\n",
              "        212,  77,  30,  30,  30, 114, 211,  30,  30,  30, 108,  30,  29,\n",
              "         28, 207, 217,  65,  81, 155, 210,  52,  30,  30,  30, 108,  30,\n",
              "         30,  30, 118, 214, 214, 214, 208,  96,  30,  30,  30,  30, 108,\n",
              "         30,  30,  30,  30,  34,  49,  43,  28,  30,  30,  30,  30,  30,\n",
              "        184, 160, 160, 160, 160, 160, 160, 160, 160, 160, 160, 160, 160,\n",
              "        160], dtype=uint8),\n",
              " array([ 30,  30,  30,  30,  30,  30,  30,  30,  30,  30,  30,  30,  30,\n",
              "         30,  30,  30,  30,  30,  30,  30,  30,  31,  30,  32,  30,  30,\n",
              "         30,  30,  30,  30,  30,  31,  30,  31,  72,  72, 132,  29,  31,\n",
              "         30,  30,  30,  30,  30,  30,  29,  75, 125, 211, 212, 214,  67,\n",
              "         33,  30,  30,  30,  30,  30,  30,  30, 157, 211, 211, 210, 210,\n",
              "        211,  97,  32,  30,  30,  30,  30,  30,  82, 208, 219, 105, 153,\n",
              "         85, 201, 210,  82,  30,  30,  30,  30,  59, 213, 208,  81, 204,\n",
              "        203,  32,  85, 208, 210,  30,  30,  30,  30, 215, 204,  30,  36,\n",
              "        141, 211,  89,  60, 206, 213,  30,  30,  30,  30, 213, 201,  31,\n",
              "         32, 195, 113, 213, 181, 210, 155,  30,  30,  30,  30,  79, 202,\n",
              "         98,  47, 199,  49, 106, 211, 213,  78,  30,  30,  30,  30,  29,\n",
              "        179, 210, 212, 212, 211, 210, 188, 115,  41,  30,  30,  30,  30,\n",
              "         30,  37,  98, 211, 197, 198, 107,  39,  30,  30,  30,  30,  30,\n",
              "         30,  30,  30,  33,  37,  31,  30,  30,  30,  30,  30,  30,  30,\n",
              "        160, 160, 160, 160, 160, 160, 160, 160, 160, 160, 160, 160, 160,\n",
              "        160], dtype=uint8),\n",
              " array([ 30,  30,  30,  30,  30,  30,  30,  30,  30,  30,  30,  30,  30,\n",
              "         30,  29,  30,  30,  30,  30,  30,  30,  30,  30,  30,  30,  30,\n",
              "         30,  30,  31,  30,  30,  30,  30,  28, 104, 158, 213, 141,  30,\n",
              "         43,  30,  30,  30,  30,  30,  30,  75, 212, 212, 116, 111, 125,\n",
              "        148, 214,  30,  30,  30,  30,  30,  61, 210,  44,  58, 211, 212,\n",
              "        210, 213, 212,  30,  30,  30,  30,  67, 211,  30,  30,  46, 209,\n",
              "        213, 211, 214, 169,  30,  30,  30,  30, 209, 166,  26,  29, 196,\n",
              "        213, 214, 216, 191, 172,  30,  30,  30,  30, 214,  76, 118, 213,\n",
              "        212, 212, 159,  33,  78, 214,  30,  30,  30,  30, 212, 212, 212,\n",
              "        208, 183,  86,  30,  30,  77, 211,  30,  30,  30,  30, 210, 212,\n",
              "        210,  92,  29,  30,  30,  29, 161, 172,  30,  30,  30,  30,  90,\n",
              "        213, 199,  32,  30,  30,  52, 187, 190,  75,  30,  30,  27,  30,\n",
              "         30,  50, 198, 213, 212, 213, 191,  95,  30,  30,  30,  30,  30,\n",
              "         30,  30,  30,  30,  30,  30,  29,  31,  30,  30,  30,  30,  30,\n",
              "         30,  30,  30,  30,  30,  30,  30,  30,  30,  30,  30,  30,  30,\n",
              "         30], dtype=uint8),\n",
              " array([108,  30,  30,  30,  30,  30,  30,  30,  30,  34,  30,  30,  30,\n",
              "         30, 108,  30,  30,  29,  30,  30,  31, 133, 213,  29,  31,  30,\n",
              "         30,  30, 108,  30,  30,  30,  83, 142, 101, 210, 213, 193,  54,\n",
              "         30,  30,  30, 108,  30,  30,  30,  32, 205, 212, 212, 213, 213,\n",
              "        180,  29,  30,  30, 108,  30,  30,  30, 160, 213, 215, 215, 214,\n",
              "        213, 214, 194,  30,  30, 108,  30,  30,  81, 211, 162, 127, 211,\n",
              "        215, 214, 214, 214, 122,  30, 108,  30,  30, 129, 211,  30, 176,\n",
              "        213, 206,  30,  41, 213, 211,  30, 108,  30,  30, 213, 104,  31,\n",
              "        174, 210, 212,  29,  92, 213,  86,  30, 108,  30,  30, 213, 103,\n",
              "         31, 211, 213, 165, 164, 213, 198,  29,  30, 108,  30,  30, 213,\n",
              "        116,  63, 214, 217, 214, 213, 166,  39,  30,  30, 108,  30,  30,\n",
              "        142, 213, 213, 212, 213, 205, 109, 117,  30,  30,  30, 108,  30,\n",
              "         30,  31, 211, 214, 214,  91,  31,  31,  30,  30,  30,  30, 108,\n",
              "         30,  30,  30,  37,  28,  77,  27,  30,  30,  30,  30,  30,  30,\n",
              "        109,  30,  30,  30,  30,  30,  30,  30,  30,  30,  30,  30,  30,\n",
              "         30], dtype=uint8),\n",
              " array([ 30,  30,  30,  30,  30,  31,  31,  30,  30,  30,  30,  30,  30,\n",
              "         30,  30,  30,  30,  30,  31,  98,  35,  30,  30,  30,  30,  30,\n",
              "         30,  30,  30,  30,  30,  30,  28,  82, 185, 210, 208,  85,  31,\n",
              "         30,  30,  30,  30,  30,  30,  30,  32, 186, 214, 213, 213, 215,\n",
              "         62,  30,  30,  30,  30,  30,  30,  33, 186, 213, 213, 213, 215,\n",
              "        213, 191,  29,  30,  30,  30,  30,  30,  49, 213, 214, 208, 137,\n",
              "        128, 200, 212,  87,  30,  30,  30,  30,  30, 140, 213, 129,  93,\n",
              "        216,  52, 129, 213, 112,  30,  30,  30,  30,  30, 212, 213,  70,\n",
              "        124, 212,  36,  36, 202, 112,  30,  30,  30,  30,  30, 212, 213,\n",
              "        138, 199, 172,  82,  30, 201, 112,  30,  30,  30,  30,  30, 135,\n",
              "        214, 211, 125, 170, 150, 214, 211, 109,  30,  30,  30,  30,  30,\n",
              "         36, 213, 214, 213, 213, 214, 213, 166,  30,  30,  30,  30,  30,\n",
              "         30,  30,  35,  88, 213, 213, 214,  77,  34,  30,  30,  30,  30,\n",
              "         30,  30,  30,  31,  30,  30,  30,  30,  32,  30,  30,  30,  30,\n",
              "         30,  30,  30,  30,  30,  30,  30,  30,  30,  30,  30,  30,  30,\n",
              "         30], dtype=uint8)]"
            ]
          },
          "metadata": {},
          "execution_count": 62
        }
      ]
    },
    {
      "cell_type": "code",
      "source": [
        "l[0]"
      ],
      "metadata": {
        "colab": {
          "base_uri": "https://localhost:8080/"
        },
        "id": "lxov76m5766c",
        "outputId": "16dec515-21b1-4053-88df-1593a117a8fd"
      },
      "execution_count": null,
      "outputs": [
        {
          "output_type": "execute_result",
          "data": {
            "text/plain": [
              "array([nan, nan, nan, nan, nan, nan, nan, nan, nan, nan, nan, nan, nan,\n",
              "       nan, nan])"
            ]
          },
          "metadata": {},
          "execution_count": 53
        }
      ]
    },
    {
      "cell_type": "code",
      "source": [
        "m\n"
      ],
      "metadata": {
        "colab": {
          "base_uri": "https://localhost:8080/"
        },
        "id": "tJ0_lrCq8rdU",
        "outputId": "f86e493c-e983-4703-c911-f548dfe545d9"
      },
      "execution_count": null,
      "outputs": [
        {
          "output_type": "execute_result",
          "data": {
            "text/plain": [
              "(array([nan, nan, nan, nan, nan, nan, nan, nan, nan, nan, nan, nan, nan,\n",
              "        nan, nan]),\n",
              " array([ 600.        ,  706.66666667,  813.33333333,  920.        ,\n",
              "        1026.66666667, 1133.33333333, 1240.        , 1346.66666667,\n",
              "        1453.33333333, 1560.        , 1666.66666667, 1773.33333333,\n",
              "        1880.        , 1986.66666667, 2093.33333333, 2200.        ]),\n",
              " <BarContainer object of 15 artists>)"
            ]
          },
          "metadata": {},
          "execution_count": 51
        }
      ]
    },
    {
      "cell_type": "code",
      "source": [],
      "metadata": {
        "id": "hi9J-A-G-YMb"
      },
      "execution_count": null,
      "outputs": []
    }
  ],
  "metadata": {
    "colab": {
      "provenance": []
    },
    "kernelspec": {
      "display_name": "Python 3",
      "name": "python3"
    },
    "language_info": {
      "name": "python"
    }
  },
  "nbformat": 4,
  "nbformat_minor": 0
}